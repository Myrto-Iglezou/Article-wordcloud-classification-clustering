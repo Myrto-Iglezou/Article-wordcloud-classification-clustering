{
 "nbformat": 4,
 "nbformat_minor": 2,
 "metadata": {
  "language_info": {
   "name": "python",
   "codemirror_mode": {
    "name": "ipython",
    "version": 3
   },
   "version": "3.7.6-final"
  },
  "orig_nbformat": 2,
  "file_extension": ".py",
  "mimetype": "text/x-python",
  "name": "python",
  "npconvert_exporter": "python",
  "pygments_lexer": "ipython3",
  "version": 3,
  "kernelspec": {
   "name": "python37664bitbasecondaf626b65de32c4e79b0775ded0e5cdfcc",
   "display_name": "Python 3.7.6 64-bit ('base': conda)"
  }
 },
 "cells": [
  {
   "cell_type": "code",
   "execution_count": 37,
   "metadata": {},
   "outputs": [],
   "source": [
    "import numpy as np\n",
    "import matplotlib.pyplot as plt\n",
    "import pandas as pd #this is how I usually import pandas\n",
    "import sys #only needed to determine Python version number\n",
    "import matplotlib #only needed to determine Matplotlib version number\n",
    "import wordcloud as wc\n",
    "import collections\n",
    "import seaborn as sbn\n",
    "import nltk\n",
    "from sklearn.model_selection import train_test_split\n",
    "from pandas import DataFrame, read_csv\n",
    "from string import punctuation \n",
    "import os"
   ]
  },
  {
   "cell_type": "code",
   "execution_count": 50,
   "metadata": {},
   "outputs": [],
   "source": [
    "directoryPath = r\"C:\\Users\\nikol\\Desktop\\fulltext\\data\\\\\"\n",
    "categories = os.listdir(directoryPath)\n",
    "categories.remove('README.TXT')\n",
    "\n",
    "df = pd.DataFrame(columns=['id','title','content','category'])\n",
    "\n",
    "id=0\n",
    "for category in categories:\n",
    "    path = directoryPath + category\n",
    "    txtfiles = os.listdir(path)\n",
    "    for txt in txtfiles:    \n",
    "        filepath = path + \"\\\\\" + txt\n",
    "        file = open(filepath,\"r\")\n",
    "        filecontent = file.readlines()\n",
    "        title = filecontent[0].replace(\"\\n\",\"\")\n",
    "        del filecontent[0]\n",
    "        content = \"\".join(filecontent)\n",
    "        df.loc[id] = [id,title,content,str(category)]\n",
    "        id+=1\n",
    "\n",
    "train, test = train_test_split(df,test_size=0.2,stratify=df['category'])"
   ]
  },
  {
   "cell_type": "code",
   "execution_count": 51,
   "metadata": {},
   "outputs": [],
   "source": [
    "test_with_category = test.copy()\n",
    "test.drop(columns='category',inplace=True)\n",
    "train = train.reset_index()\n",
    "test = test.reset_index()\n",
    "train.to_csv(\"train_set.tsv\",sep=\"\\t\")\n",
    "train.to_csv(\"test_set.tsv\",sep=\"\\t\")\n",
    "df.to_csv(\"final.csv\")"
   ]
  },
  {
   "cell_type": "code",
   "execution_count": null,
   "metadata": {},
   "outputs": [],
   "source": []
  }
 ]
}